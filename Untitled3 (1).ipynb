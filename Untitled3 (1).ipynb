{
  "nbformat": 4,
  "nbformat_minor": 0,
  "metadata": {
    "colab": {
      "provenance": []
    },
    "kernelspec": {
      "name": "python3",
      "display_name": "Python 3"
    },
    "language_info": {
      "name": "python"
    }
  },
  "cells": [
    {
      "cell_type": "code",
      "execution_count": null,
      "metadata": {
        "id": "MrrKcM-uWsa4"
      },
      "outputs": [],
      "source": [
        "import matplotlib.pyplot as plt\n",
        "import numpy as np\n",
        "import sys  \n",
        "#Подключаем все необходимые библиотеки"
      ]
    },
    {
      "cell_type": "code",
      "source": [
        "def LSA(X,Y, Fi, M = 3):\n",
        "  \"\"\"\n",
        "  Этот метод на основании входных значений (x,y), базисных функций и степени полинома\n",
        "  строит матрицу Грама, и решает получившуюся СЛАУ с помощью встроенного метода в библиотеке numpy\n",
        "  входные параметры \n",
        "  X - список значений иксов\n",
        "  Y - список значений игриков\n",
        "  Fi - список векторов обозначающих базисные функции\n",
        "  M - степень искомого полинома\n",
        "  \"\"\"\n",
        "  A = [[0] * (M+1) for i in range(M+1)]\n",
        "  for i in range(M+1):\n",
        "    for j in range(M+1):\n",
        "      if( j >= i):\n",
        "        A[i][j] = np.sum(SumFunc(Fi[i],Fi[j],X))\n",
        "      else:\n",
        "        A[i][j] = A[j][i] # пробегаемся по всем ячейкам матрицы Грама и заполняем их значениями (Fi(i)(Xi)*Fi(j)(Xi)) согласно методу наименьших квадратов\n",
        "  print('матрица Грама = ', A)\n",
        "  B = [0 for i in range(M+1)]\n",
        "  for i in range(M+1):\n",
        "    B[i] = np.sum(FiFunc(Fi[i], X, Y)) # пробегаемся по всем ячейкам последнего столбца матрицы Грама и заполняем их значениями (Fi(i)(Xi)*F(i)(Xi)) (F(i) = Y(i)) согласно методу наименьших квадратов\n",
        "  print('Последний столбец матрицы Грама = ', B)\n",
        "  P = np.linalg.solve(A,B) # используем встренный в numpy метод по решению СЛАУ и в качестве аргументов передаем получившиеся матрицу и список\n",
        "  return P"
      ],
      "metadata": {
        "id": "g_W-v7ZxQrel"
      },
      "execution_count": null,
      "outputs": []
    },
    {
      "cell_type": "code",
      "source": [
        "def FiFunc(Fi, X, Y):\n",
        "  \"\"\"\n",
        "  Этот метод возвращает список значений (Fi(i)(Xi)*F(i)(Xi)) (F(i) = Y(i)) для i от 0 до N\n",
        "  параметры :\n",
        "  Fi - вектор обозначающий базисную функцию\n",
        "  X - список значений X\n",
        "  Y - список значений Y = F(x)\n",
        "  \"\"\"\n",
        "  Z = [0 for i in range(len(X))]\n",
        "  for i in range(len(X)):\n",
        "    for j in range(len(Fi)):\n",
        "      Z[i] += (Fi[j] * np.power(X[i],j))\n",
        "    Z[i] *= Y[i]\n",
        "  return Z"
      ],
      "metadata": {
        "id": "b7YCOjYnfGF2"
      },
      "execution_count": null,
      "outputs": []
    },
    {
      "cell_type": "code",
      "source": [
        "def SumFunc(Fi1, Fi2, X):\n",
        "  \"\"\"\n",
        "  Этот метод возвращает список значений (Fi(i)(Xi)*Fi(j)(Xi)) для i от 0 до N\n",
        "  пераметры:\n",
        "  Fi1 - вектор обозначающий первую базисную функцию\n",
        "  Fi2 - вектор обозначающий вторую базисную функцию\n",
        "  X - список значений X\n",
        "  \"\"\"\n",
        "  Y = [0 for i in range(len(X))]\n",
        "  for i in range(len(X)):\n",
        "    Y1 = 0\n",
        "    Y2 = 0\n",
        "    for j in range(len(Fi1)):\n",
        "      Y1 += (Fi1[j] * np.power(X[i],j))\n",
        "    for j in range(len(Fi2)):\n",
        "      Y2 += (Fi2[j] * np.power(X[i],j))\n",
        "    Y[i] = Y1*Y2\n",
        "  return Y"
      ],
      "metadata": {
        "id": "ZlYBZINZgb4-"
      },
      "execution_count": null,
      "outputs": []
    },
    {
      "cell_type": "code",
      "source": [
        "def func (P, N, pol, Fi, X):\n",
        "  \"\"\"\n",
        "  Этот метод возвращает список значений Y длинной N на основании списка X состоящего из натуральных чисел с шагом в 1 начиная с 0\n",
        "  параметры:\n",
        "  P - вектор обозначающий полином\n",
        "  N - количество значений \n",
        "  pol - строка необходимая для вывода\n",
        "  \"\"\"\n",
        "  Fi_res = [[0] * (M+1) for i in range(M+1)]\n",
        "  for i in range(M+1):\n",
        "    for j in range(M+1):\n",
        "      Fi_res[i][j] = P[i] * Fi[i][j]\n",
        "  Y = [0 for i in range(len(X))]\n",
        "  for k in range(len(Fi_res)):\n",
        "    for i in range(len(X)):\n",
        "      for j in range(len(Fi_res[k])):\n",
        "        Y[i] += (Fi_res[k][j]*np.power(X[i],j))\n",
        "  Polinom = [0 for i in range(M+1)]\n",
        "  for i in range(M+1):\n",
        "    for j in range(M+1):\n",
        "      Polinom[i] += Fi_res[j][i]\n",
        "  print(pol,'полином:')\n",
        "  for i in range(len(Polinom) - 1):\n",
        "    print(Polinom[i], \"* X^\",i, \" + \", end='')\n",
        "  print(Polinom[len(Polinom)-1], \"* X ^\",(len(Polinom)-1))\n",
        "  print('Значения по X = ',X)\n",
        "  print('Значения по У =',Y)\n",
        "  return Y"
      ],
      "metadata": {
        "id": "Yxes8FloyPwx"
      },
      "execution_count": null,
      "outputs": []
    },
    {
      "cell_type": "code",
      "source": [
        "M = int(input(\"Введите степень полинома: \"))\n",
        "Bazis = [[0] * (M+1) for i in range(M+1)]\n",
        "for i in range(M+1):\n",
        "  for j in range(M+1):\n",
        "    Bazis[i][j] = 0 if(i!=j) else 1\n",
        "inp = input(\"Ручной ввод? (Y/N)\")\n",
        "if(inp == \"Y\"):\n",
        "  entered_list = input(\"Введите список значений X, разделенных пробелом: \").split()\n",
        "  print(\"Введенный список:\", entered_list)\n",
        "  X = list(map(float, entered_list))\n",
        "  entered_list = input(\"Введите список значений Y, разделенных пробелом: \").split()\n",
        "  print(\"Введенный список:\", entered_list)\n",
        "  Y = list(map(float, entered_list))\n",
        "  N = (len(X) - 1)\n",
        "elif(inp == \"N\"):\n",
        "  N = int(input(\"Введите количетсво точек: \"))\n",
        "  X = [i for i in range(N)]\n",
        "  Y = func(np.random.uniform(2, 8, (M+1)),N, \"исходный\", Bazis, X) + np.random.normal(0, 3, N)\n",
        "else:\n",
        "  sys.exit(\"Неверный ввод\")\n",
        "Fi = [[0] * (M+1) for i in range(M+1)]\n",
        "inp = input(\"Ввести базисные функции самостоятельно? (Y/N)\")\n",
        "if(inp == \"N\"):\n",
        "  for i in range(M+1):\n",
        "    for j in range(M+1):\n",
        "      Fi[i][j] = 0 if(i!=j) else 1\n",
        "elif(inp == \"Y\"):\n",
        "  for i in range(M+1):\n",
        "    entered_list = input(\"Введите список значений коэфициентов, разделенных пробелом: /n пример (1 0 0 0 0) = 1*x^0+0*x^1+0*x^2+0*x^3+0*x^4\").split() # 1*x^0 + ... -5*x^3 (1 0 0 -5)\n",
        "    print(\"Введенный список:\", entered_list)\n",
        "    Fi[i] = list(map(float, entered_list))\n",
        "else:\n",
        "  sys.exit(\"Неверный ввод\")\n",
        "print(\"Значения базисных функций:\")\n",
        "for i in range(len(Fi)):\n",
        "  for j in range(len(Fi[i]) - 1):\n",
        "    print(Fi[i][j], \"*X^\", j, \"+\", end='')\n",
        "  print(Fi[i][len(Fi[i])-1], \"*X^\",(len(Fi[i])-1))"
      ],
      "metadata": {
        "colab": {
          "base_uri": "https://localhost:8080/"
        },
        "id": "592WVBvh02BX",
        "outputId": "196306ce-7b57-421f-fe12-934b54d2278e"
      },
      "execution_count": null,
      "outputs": [
        {
          "output_type": "stream",
          "name": "stdout",
          "text": [
            "Введите степень полинома: 7\n",
            "Ручной ввод? (Y/N)N\n",
            "Введите количетсво точек: 20\n",
            "исходный полином:\n",
            "2.5678027560188506 * X^ 0  + 5.783946974967858 * X^ 1  + 3.3610305551292767 * X^ 2  + 2.176891106083475 * X^ 3  + 5.786395241458525 * X^ 4  + 5.216585454080958 * X^ 5  + 5.385188429783422 * X^ 6  + 3.636598922660358 * X ^ 7\n",
            "Значения по X =  [0, 1, 2, 3, 4, 5, 6, 7, 8, 9, 10, 11, 12, 13, 14, 15, 16, 17, 18, 19]\n",
            "Значения по У = [2.5678027560188506, 33.914439440182726, 1114.6447277757313, 13724.317467611472, 88681.67035437978, 388558.8113078906, 1317958.1211811937, 3730980.3264197186, 9234212.200240899, 20603562.350904487, 42333273.55564379, 81335440.09882796, 147808358.5729257, 256292040.60084033, 426929215.93818694, 686950154.4140807, 1072399635.1690089, 1630124391.6483529, 2420039360.810135, 3517691065.0055575]\n",
            "Ввести базисные функции самостоятельно? (Y/N)N\n",
            "Значения базисных функций:\n",
            "1 *X^ 0 +0 *X^ 1 +0 *X^ 2 +0 *X^ 3 +0 *X^ 4 +0 *X^ 5 +0 *X^ 6 +0 *X^ 7\n",
            "0 *X^ 0 +1 *X^ 1 +0 *X^ 2 +0 *X^ 3 +0 *X^ 4 +0 *X^ 5 +0 *X^ 6 +0 *X^ 7\n",
            "0 *X^ 0 +0 *X^ 1 +1 *X^ 2 +0 *X^ 3 +0 *X^ 4 +0 *X^ 5 +0 *X^ 6 +0 *X^ 7\n",
            "0 *X^ 0 +0 *X^ 1 +0 *X^ 2 +1 *X^ 3 +0 *X^ 4 +0 *X^ 5 +0 *X^ 6 +0 *X^ 7\n",
            "0 *X^ 0 +0 *X^ 1 +0 *X^ 2 +0 *X^ 3 +1 *X^ 4 +0 *X^ 5 +0 *X^ 6 +0 *X^ 7\n",
            "0 *X^ 0 +0 *X^ 1 +0 *X^ 2 +0 *X^ 3 +0 *X^ 4 +1 *X^ 5 +0 *X^ 6 +0 *X^ 7\n",
            "0 *X^ 0 +0 *X^ 1 +0 *X^ 2 +0 *X^ 3 +0 *X^ 4 +0 *X^ 5 +1 *X^ 6 +0 *X^ 7\n",
            "0 *X^ 0 +0 *X^ 1 +0 *X^ 2 +0 *X^ 3 +0 *X^ 4 +0 *X^ 5 +0 *X^ 6 +1 *X^ 7\n"
          ]
        }
      ]
    },
    {
      "cell_type": "code",
      "source": [
        "Y_res = func(LSA(X,Y, Fi, M),N, \"получившийся\", Fi, X)\n",
        "Q = 0\n",
        "print(\"Невязки по формуле Ro*(фи(Xi)-f(Xi))^2 (считаем, что Ro = 1):\")\n",
        "for i in range(len(Y_res)):\n",
        "  print(\"Невязка для \", (i+1),\"значения: \", np.power((Y[i]-Y_res[i]),2))\n",
        "  Q += np.power((Y[i]-Y_res[i]),2)\n",
        "print(\"Общая невязка поформуле sum(Ro*(фи(Xi)-f(Xi))^2) (считаем, что Ro = 1):\", Q)\n",
        "plt.plot(X, Y_res)\n",
        "plt.scatter(X, Y, s = 10, c = 'red')\n",
        "plt.grid(True)\n",
        "plt.show()"
      ],
      "metadata": {
        "id": "hgjFsTEvBCFb",
        "colab": {
          "base_uri": "https://localhost:8080/",
          "height": 782
        },
        "outputId": "f76835a1-cf50-4384-9d5e-2238f18bac9d"
      },
      "execution_count": null,
      "outputs": [
        {
          "output_type": "stream",
          "name": "stdout",
          "text": [
            "матрица Грама =  [[20, 190, 2470, 36100, 562666, 9133300, 152455810, 2597286700], [190, 2470, 36100, 562666, 9133300, 152455810, 2597286700, 44940730666], [2470, 36100, 562666, 9133300, 152455810, 2597286700, 44940730666, 787155279940], [36100, 562666, 9133300, 152455810, 2597286700, 44940730666, 787155279940, 13923571680850], [562666, 9133300, 152455810, 2597286700, 44940730666, 787155279940, 13923571680850, 248284917113500], [9133300, 152455810, 2597286700, 44940730666, 787155279940, 13923571680850, 248284917113500, 4457403807182266], [152455810, 2597286700, 44940730666, 787155279940, 13923571680850, 248284917113500, 4457403807182266, 80481629714694580], [2597286700, 44940730666, 787155279940, 13923571680850, 248284917113500, 4457403807182266, 80481629714694580, 1460289489300027490]]\n",
            "Последний столбец матрицы Грама =  [10317281753.527912, 178267799479.7958, 3119035470177.806, 55123257272668.03, 982266247233789.1, 1.7624146701040626e+16, 3.1806101405232877e+17, 5.768618248601801e+18]\n",
            "получившийся полином:\n",
            "1.1551029912199173 * X^ 0  + 13.422234764808458 * X^ 1  + -1.4999162253889682 * X^ 2  + 3.401611578010074 * X^ 3  + 5.63229506289012 * X^ 4  + 5.2267794433894705 * X^ 5  + 5.384851048262921 * X^ 6  + 3.636603311024512 * X ^ 7\n",
            "Значения по X =  [0, 1, 2, 3, 4, 5, 6, 7, 8, 9, 10, 11, 12, 13, 14, 15, 16, 17, 18, 19]\n",
            "Значения по У = [1.1551029912199173, 36.359561974216504, 1116.702154338031, 13724.897234095435, 88681.09675107809, 388557.77129622834, 1317957.125964331, 3730979.5317217484, 9234211.452966722, 20603561.35196981, 42333272.050882, 81335438.03199811, 147808356.156963, 256292038.28560814, 426929214.27510613, 686950153.8401308, 1072399635.7547103, 1630124392.876461, 2420039361.473889, 3517691063.337449]\n",
            "Невязки по формуле Ro*(фи(Xi)-f(Xi))^2 (считаем, что Ro = 1):\n",
            "Невязка для  1 значения:  0.42450476586682007\n",
            "Невязка для  2 значения:  2.7856866664477766\n",
            "Невязка для  3 значения:  0.1325124316475884\n",
            "Невязка для  4 значения:  8.066325795054075\n",
            "Невязка для  5 значения:  1.815658226627899\n",
            "Невязка для  6 значения:  18.948447844897494\n",
            "Невязка для  7 значения:  0.14024983663425877\n",
            "Невязка для  8 значения:  7.206897031105102\n",
            "Невязка для  9 значения:  0.9449233460933906\n",
            "Невязка для  10 значения:  0.8816866831997692\n",
            "Невязка для  11 значения:  8.217348697355984\n",
            "Невязка для  12 значения:  0.21489565166550406\n",
            "Невязка для  13 значения:  14.046438827151995\n",
            "Невязка для  14 значения:  19.01048969155817\n",
            "Невязка для  15 значения:  1.7247346944677702\n",
            "Невязка для  16 значения:  4.704208969373269\n",
            "Невязка для  17 значения:  0.18555687022127643\n",
            "Невязка для  18 значения:  30.807490870445747\n",
            "Невязка для  19 значения:  22.1574494994004\n",
            "Невязка для  20 значения:  1.4455621539682397\n",
            "Общая невязка поформуле sum(Ro*(фи(Xi)-f(Xi))^2) (считаем, что Ro = 1): 143.86106855318252\n"
          ]
        },
        {
          "output_type": "display_data",
          "data": {
            "text/plain": [
              "<Figure size 432x288 with 1 Axes>"
            ],
            "image/png": "[encoded data removed]"
          },
          "metadata": {
            "needs_background": "light"
          }
        }
      ]
    }
  ]
}